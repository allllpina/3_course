{
 "cells": [
  {
   "cell_type": "markdown",
   "metadata": {},
   "source": [
    "<div align=\"right\"><em>Машинне навчання. Лабораторний практикум</em></div>"
   ]
  },
  {
   "cell_type": "markdown",
   "metadata": {},
   "source": [
    "# Лабораторна робота №3\n",
    "## Дерева рішень в задачах класифікації\n",
    "\n",
    "---"
   ]
  },
  {
   "cell_type": "markdown",
   "metadata": {},
   "source": [
    "## Завдання\n",
    "\n",
    "Необхідно:\n",
    "- розібратися з тим, як працює дерево рішень;\n",
    "- навчити і налаштувати дерева в задачі класифікації на даних про серцево-судинні захворювання;\n",
    "- дати відповіді (з написанням коду) на всі запитання сформульовані в лабораторній роботі. "
   ]
  },
  {
   "cell_type": "markdown",
   "metadata": {},
   "source": [
    "## Виконання завдання"
   ]
  },
  {
   "cell_type": "code",
   "execution_count": 3,
   "metadata": {},
   "outputs": [],
   "source": [
    "import numpy as np\n",
    "import pandas as pd\n",
    "from matplotlib import pyplot as plt\n",
    "from sklearn.model_selection import train_test_split, GridSearchCV\n",
    "from sklearn.metrics import accuracy_score\n",
    "from sklearn.tree import DecisionTreeClassifier\n",
    "from sklearn.tree import export_graphviz"
   ]
  },
  {
   "cell_type": "markdown",
   "metadata": {},
   "source": [
    "### 1. Функції для розрахунку ентропії та приросту інформації"
   ]
  },
  {
   "cell_type": "markdown",
   "metadata": {},
   "source": [
    "Приклад для перевірки: 9 синіх кульок і 11 жовтих. Нехай кулька знаходиться в стані \"1\", якщо вона синя і \"0\" – якщо вона жовта.\n",
    "\n",
    "![png](../img/entropy_1.png)"
   ]
  },
  {
   "cell_type": "code",
   "execution_count": 5,
   "metadata": {},
   "outputs": [
    {
     "data": {
      "text/plain": [
       "[1, 1, 1, 1, 1, 1, 1, 1, 1, 0, 0, 0, 0, 0, 0, 0, 0, 0, 0, 0]"
      ]
     },
     "execution_count": 5,
     "metadata": {},
     "output_type": "execute_result"
    }
   ],
   "source": [
    "balls = [1 for i in range(9)] + [0 for i in range(11)]\n",
    "balls"
   ]
  },
  {
   "cell_type": "markdown",
   "metadata": {},
   "source": [
    "Далі нехай кульки розбиваються на 2 групи\n",
    "\n",
    "![png](../img/entropy_2.png)"
   ]
  },
  {
   "cell_type": "code",
   "execution_count": 6,
   "metadata": {},
   "outputs": [],
   "source": [
    "# дві групи\n",
    "balls_left  = [1 for i in range(8)] + [0 for i in range(5)] # 8 синіх і 5 жовтих\n",
    "balls_right = [1 for i in range(1)] + [0 for i in range(6)] # 1 синя і 6 жовтих"
   ]
  },
  {
   "cell_type": "markdown",
   "metadata": {},
   "source": [
    "**Реалізуйте функцію для розрахунку ентропії Шеннона.**"
   ]
  },
  {
   "cell_type": "code",
   "execution_count": 18,
   "metadata": {},
   "outputs": [],
   "source": [
    "from math import log\n",
    "\n",
    "def entropy(a_list):\n",
    "    general_count = len(a_list)\n",
    "    entropy = 0\n",
    "    for el in set(a_list):\n",
    "        prop_i = a_list.count(el) / general_count\n",
    "        entropy -= prop_i * np.log2(prop_i)\n",
    "    return entropy"
   ]
  },
  {
   "cell_type": "markdown",
   "metadata": {},
   "source": [
    "Перевірка"
   ]
  },
  {
   "cell_type": "code",
   "execution_count": 19,
   "metadata": {},
   "outputs": [
    {
     "name": "stdout",
     "output_type": "stream",
     "text": [
      "0.9927744539878083\n",
      "0.9612366047228759\n",
      "0.5916727785823275\n",
      "2.584962500721156\n"
     ]
    }
   ],
   "source": [
    "print(entropy(balls)) # 9 синіх і 11 жовтих\n",
    "print(entropy(balls_left)) # 8 синіх і 5 жовтих\n",
    "print(entropy(balls_right)) # 1 синя і 6 жовтих\n",
    "print(entropy([1,2,3,4,5,6])) # ентропія грального кубика з незміщеним центром ваги\n",
    "\n",
    "# 0.96\n",
    "# 2.58"
   ]
  },
  {
   "cell_type": "markdown",
   "metadata": {},
   "source": [
    "**Запитання 1. Чому дорівнює ентропія стану, заданого списком balls_left?**"
   ]
  },
  {
   "cell_type": "markdown",
   "metadata": {},
   "source": [
    "**Запитання 2. Чому дорівнює ентропія грального кубика з незміщеним центром ваги?**"
   ]
  },
  {
   "cell_type": "code",
   "execution_count": 26,
   "metadata": {},
   "outputs": [],
   "source": [
    "# розрахунок приросту інформації\n",
    "\n",
    "def information_gain(root, left, right):\n",
    "    ''' root - початковий набір даних, left і right два розбиття початкового набору '''\n",
    "    s_0 = entropy(root)\n",
    "    general_count = len(root)\n",
    "    groups = [left, right]\n",
    "    groups_entropy_sum = 0\n",
    "    for g in groups:\n",
    "        groups_entropy_sum -= (len(g) / general_count) * entropy(g)\n",
    "    ig_q = s_0 + groups_entropy_sum\n",
    "    return ig_q\n"
   ]
  },
  {
   "cell_type": "markdown",
   "metadata": {},
   "source": [
    "**Запитання 3. Який приріст інформації при розбитті вибірки на balls_left і balls_right?**"
   ]
  },
  {
   "cell_type": "code",
   "execution_count": 29,
   "metadata": {},
   "outputs": [
    {
     "data": {
      "text/plain": [
       "np.float64(0.16088518841412436)"
      ]
     },
     "execution_count": 29,
     "metadata": {},
     "output_type": "execute_result"
    }
   ],
   "source": [
    "# Ваш код тут\n",
    "information_gain(balls, balls_left, balls_right)\n",
    "# Зараз показник приросту інформації вказує 0.16 (Для порівняння, для повної групи він рівний log2_1 = 0)"
   ]
  },
  {
   "cell_type": "markdown",
   "metadata": {
    "lang": "uk"
   },
   "source": [
    "### 2. Побудова дерева рішень для прогнозування наявності серцево-судинних захворювань\n",
    "\n",
    "#### Завдання\n",
    "Необхідно дати відповіді (з написанням коду) на запитання щодо набору даних про серцево-судинні захворювання. Дані збережені у файлі *../data/bootcamp5.csv*.\n",
    "\n",
    "#### Проблема\n",
    "\n",
    "Прогнозування наявності або відсутності серцево-судинних захворювань (ССЗ), використовуючи результати обстеження пацієнта.\n",
    "\n",
    "#### Опис даних\n",
    "\n",
    "Набір даних сформований на основі реальної інформації про серцево-судинні захворювання пацієнтів і містить ознаки, що можна розбити на 3 групи:\n",
    "- *Об'єктивні*: фактична інформація;\n",
    "- *Обстеження*: результати медичного огляду;\n",
    "- *Суб’єктивні*: інформація, надана пацієнтом.\n",
    "\n",
    "|           Ознака          |    Група    | Назва змінної | Тип значення                                  |\n",
    "|:------------------------- |:----------- |:------------- |:--------------------------------------------- |\n",
    "| Вік                       | Об'єктивні  | age           | int (дні)                                     |\n",
    "| Зріст                      | Об'єктивні  | height        | int (см)                                      |\n",
    "| Вага                      | Об'єктивні  | weight        | float (кг)                                    | \n",
    "| Стать                     | Об'єктивні  | gender        | категоріальний код                            |\n",
    "| Верхній артеріальний тиск | Обстеження  | ap_hi         | int                                           |\n",
    "| Нижній артеріальний тиск  | Обстеження  | ap_lo         | int                                           |\n",
    "| Холестерин                | Обстеження  | cholesterol   | 1: норма, 2: вище норми, 3: значно вище норми |\n",
    "| Глюкоза                   | Обстеження  | gluc          | 1: норма, 2: вище норми, 3: значно вище норми |\n",
    "| Куріння                   | Суб’єктивні | smoke         | binary                                        |\n",
    "| Вживання алкоголю         | Суб’єктивні | alco          | binary                                        |\n",
    "| Фізична активність        | Суб’єктивні | active        | binary                                        |\n",
    "\n",
    "Цільова ознака (яку цікаво буде прогнозувати): наявність серцево-судинних захворювань за результатами класичного лікарського огляду (**cardio**).\n",
    "\n",
    "Всі показники отримані на момент огляду."
   ]
  },
  {
   "cell_type": "markdown",
   "metadata": {},
   "source": [
    "### Виконання"
   ]
  },
  {
   "cell_type": "code",
   "execution_count": 80,
   "metadata": {},
   "outputs": [
    {
     "data": {
      "text/html": [
       "<div>\n",
       "<style scoped>\n",
       "    .dataframe tbody tr th:only-of-type {\n",
       "        vertical-align: middle;\n",
       "    }\n",
       "\n",
       "    .dataframe tbody tr th {\n",
       "        vertical-align: top;\n",
       "    }\n",
       "\n",
       "    .dataframe thead th {\n",
       "        text-align: right;\n",
       "    }\n",
       "</style>\n",
       "<table border=\"1\" class=\"dataframe\">\n",
       "  <thead>\n",
       "    <tr style=\"text-align: right;\">\n",
       "      <th></th>\n",
       "      <th>age</th>\n",
       "      <th>gender</th>\n",
       "      <th>height</th>\n",
       "      <th>weight</th>\n",
       "      <th>ap_hi</th>\n",
       "      <th>ap_lo</th>\n",
       "      <th>cholesterol</th>\n",
       "      <th>gluc</th>\n",
       "      <th>smoke</th>\n",
       "      <th>alco</th>\n",
       "      <th>active</th>\n",
       "      <th>cardio</th>\n",
       "    </tr>\n",
       "    <tr>\n",
       "      <th>id</th>\n",
       "      <th></th>\n",
       "      <th></th>\n",
       "      <th></th>\n",
       "      <th></th>\n",
       "      <th></th>\n",
       "      <th></th>\n",
       "      <th></th>\n",
       "      <th></th>\n",
       "      <th></th>\n",
       "      <th></th>\n",
       "      <th></th>\n",
       "      <th></th>\n",
       "    </tr>\n",
       "  </thead>\n",
       "  <tbody>\n",
       "    <tr>\n",
       "      <th>0</th>\n",
       "      <td>18393</td>\n",
       "      <td>1</td>\n",
       "      <td>168</td>\n",
       "      <td>62.0</td>\n",
       "      <td>110</td>\n",
       "      <td>80</td>\n",
       "      <td>1</td>\n",
       "      <td>1</td>\n",
       "      <td>0</td>\n",
       "      <td>0</td>\n",
       "      <td>1</td>\n",
       "      <td>0</td>\n",
       "    </tr>\n",
       "    <tr>\n",
       "      <th>1</th>\n",
       "      <td>20228</td>\n",
       "      <td>2</td>\n",
       "      <td>156</td>\n",
       "      <td>85.0</td>\n",
       "      <td>140</td>\n",
       "      <td>90</td>\n",
       "      <td>3</td>\n",
       "      <td>1</td>\n",
       "      <td>0</td>\n",
       "      <td>0</td>\n",
       "      <td>1</td>\n",
       "      <td>1</td>\n",
       "    </tr>\n",
       "    <tr>\n",
       "      <th>2</th>\n",
       "      <td>18857</td>\n",
       "      <td>2</td>\n",
       "      <td>165</td>\n",
       "      <td>64.0</td>\n",
       "      <td>130</td>\n",
       "      <td>70</td>\n",
       "      <td>3</td>\n",
       "      <td>1</td>\n",
       "      <td>0</td>\n",
       "      <td>0</td>\n",
       "      <td>0</td>\n",
       "      <td>1</td>\n",
       "    </tr>\n",
       "    <tr>\n",
       "      <th>3</th>\n",
       "      <td>17623</td>\n",
       "      <td>1</td>\n",
       "      <td>169</td>\n",
       "      <td>82.0</td>\n",
       "      <td>150</td>\n",
       "      <td>100</td>\n",
       "      <td>1</td>\n",
       "      <td>1</td>\n",
       "      <td>0</td>\n",
       "      <td>0</td>\n",
       "      <td>1</td>\n",
       "      <td>1</td>\n",
       "    </tr>\n",
       "    <tr>\n",
       "      <th>4</th>\n",
       "      <td>17474</td>\n",
       "      <td>2</td>\n",
       "      <td>156</td>\n",
       "      <td>56.0</td>\n",
       "      <td>100</td>\n",
       "      <td>60</td>\n",
       "      <td>1</td>\n",
       "      <td>1</td>\n",
       "      <td>0</td>\n",
       "      <td>0</td>\n",
       "      <td>0</td>\n",
       "      <td>0</td>\n",
       "    </tr>\n",
       "  </tbody>\n",
       "</table>\n",
       "</div>"
      ],
      "text/plain": [
       "      age  gender  height  weight  ap_hi  ap_lo  cholesterol  gluc  smoke  \\\n",
       "id                                                                          \n",
       "0   18393       1     168    62.0    110     80            1     1      0   \n",
       "1   20228       2     156    85.0    140     90            3     1      0   \n",
       "2   18857       2     165    64.0    130     70            3     1      0   \n",
       "3   17623       1     169    82.0    150    100            1     1      0   \n",
       "4   17474       2     156    56.0    100     60            1     1      0   \n",
       "\n",
       "    alco  active  cardio  \n",
       "id                        \n",
       "0      0       1       0  \n",
       "1      0       1       1  \n",
       "2      0       0       1  \n",
       "3      0       1       1  \n",
       "4      0       0       0  "
      ]
     },
     "execution_count": 80,
     "metadata": {},
     "output_type": "execute_result"
    }
   ],
   "source": [
    "df = pd.read_csv('../data/bootcamp5.csv', sep=';', index_col=0)\n",
    "df.head()"
   ]
  },
  {
   "cell_type": "markdown",
   "metadata": {
    "lang": "uk"
   },
   "source": [
    "Зробіть наступні перетворення ознак:\n",
    "\n",
    "- створіть \"вік у роках\", поділивши вік на 365.25 і застосувавши функцію `floor` ($\\lfloor{x}\\rfloor$ – це найбільше ціле число, що не перевищує $x$);\n",
    "- створіть 3 бінарні ознаки на основі `cholesterol`; \n",
    "- створіть 3 бінарні ознаки на основі `gluc`.\n",
    "<br>Два останні пункти можна реалізувати за допомогою методу [pandas.get_dummies](https://pandas.pydata.org/pandas-docs/stable/reference/api/pandas.get_dummies.html). Немає потреби у використанні початкових ознак `cholesterol` та `gluc` після кодування (видаліть їх)."
   ]
  },
  {
   "cell_type": "code",
   "execution_count": 147,
   "metadata": {},
   "outputs": [],
   "source": [
    "# Ваш код тут\n",
    "#df[\"age_years\"] = np.floor(df[\"age\"] / 365)\n",
    "# df = pd.get_dummies(df, columns=[\"cholesterol\", \"gluc\"])\n",
    "# df.drop([\"cholesterol\", \"gluc\"], axis = 1, inplace= True)"
   ]
  },
  {
   "cell_type": "markdown",
   "metadata": {
    "lang": "uk"
   },
   "source": [
    "Розділіть дані на навчальну та відкладену частини у пропорції 7/3, використовуючи `sklearn.model_selection.train_test_split` з `random_state=17`."
   ]
  },
  {
   "cell_type": "code",
   "execution_count": 117,
   "metadata": {},
   "outputs": [
    {
     "name": "stdout",
     "output_type": "stream",
     "text": [
      "       gender  height  weight  ap_hi  ap_lo  smoke  alco  active  age_years  \\\n",
      "id                                                                            \n",
      "0           1     168    62.0    110     80      0     0       1       50.0   \n",
      "1           2     156    85.0    140     90      0     0       1       55.0   \n",
      "2           2     165    64.0    130     70      0     0       0       51.0   \n",
      "3           1     169    82.0    150    100      0     0       1       48.0   \n",
      "4           2     156    56.0    100     60      0     0       0       47.0   \n",
      "...       ...     ...     ...    ...    ...    ...   ...     ...        ...   \n",
      "99993       1     168    76.0    120     80      1     0       1       52.0   \n",
      "99995       2     158   126.0    140     90      0     0       1       61.0   \n",
      "99996       1     183   105.0    180     90      0     1       0       52.0   \n",
      "99998       2     163    72.0    135     80      0     0       0       61.0   \n",
      "99999       2     170    72.0    120     80      0     0       1       56.0   \n",
      "\n",
      "       cholesterol_1  cholesterol_2  cholesterol_3  gluc_1  gluc_2  gluc_3  \n",
      "id                                                                          \n",
      "0               True          False          False    True   False   False  \n",
      "1              False          False           True    True   False   False  \n",
      "2              False          False           True    True   False   False  \n",
      "3               True          False          False    True   False   False  \n",
      "4               True          False          False    True   False   False  \n",
      "...              ...            ...            ...     ...     ...     ...  \n",
      "99993           True          False          False    True   False   False  \n",
      "99995          False           True          False   False    True   False  \n",
      "99996          False          False           True    True   False   False  \n",
      "99998           True          False          False   False    True   False  \n",
      "99999          False           True          False    True   False   False  \n",
      "\n",
      "[70000 rows x 15 columns]\n"
     ]
    }
   ],
   "source": [
    "# Ваш код тут\n",
    "# X_train, X_valid, y_train, y_valid = ...\n",
    "\n",
    "y = df['cardio']\n",
    "x = df.drop(['cardio', \"age\"], axis=1)\n",
    "X_train, X_valid, y_train, y_valid = train_test_split(x, y, test_size = 0.3, random_state = 17)\n",
    "print(x)"
   ]
  },
  {
   "cell_type": "markdown",
   "metadata": {
    "lang": "uk"
   },
   "source": [
    "Навчіть дерево рішень на наборі даних (`X_train`, `y_train`) з **максимальною глибиною рівною 3** і `random_state=17`. Візуалізуйте це дерево. Бібліотека `sklearn` дозволяє вивести дерево у форматі `.dot`, який може використовуватися Graphviz для візуалізації. Graphviz - це пакет інструментів з відкритим кодом для візуалізації графів описаних мовою [DOT](https://uk.wikipedia.org/wiki/%D0%9C%D0%BE%D0%B2%D0%B0_DOT). \n",
    "Як побудувати дерево рішень, альтернативні варіанти:\n",
    " 1. Встановити Graphviz та pydotpus самостійно.\n",
    " 2. Простий спосіб (без pydotplus та Graphviz): \n",
    "  - виконати код ``` dot_data = export_graphviz(your_tree); print(dot_data) ``` \n",
    "  - перейти за адесою http://www.webgraphviz.com, вставити виведений рядок коду графа (digraph Tree {...) та створити відповідне зображення."
   ]
  },
  {
   "cell_type": "code",
   "execution_count": 116,
   "metadata": {},
   "outputs": [],
   "source": [
    "# Ваш код тут\n",
    "# dot_data = export_graphviz(your_tree, feature_names=...)\n",
    "# print(dot_data)\n",
    "from sklearn.tree import plot_tree\n",
    "def tree_graph_to_png(tree, feature_names, png_file_to_save):  \n",
    "    plt.figure()\n",
    "    plot_tree(tree, feature_names=feature_names, \n",
    "                                     filled=True)  \n",
    "    plt.savefig(png_file_to_save)\n",
    "    plt.close()\n",
    "\n",
    "tree = DecisionTreeClassifier(max_depth=3, random_state=17)\n",
    "tree.fit(X_train, y_train)\n",
    "\n",
    "tree_graph_to_png(tree=tree, feature_names=['gender','height','weight','ap_hi','ap_lo','smoke,''alco','active','age_years','cholesterol_1','cholesterol_2','cholesterol_3','gluc_1','gluc_2','gluc_3'], png_file_to_save='../img/topic3_decision_tree1.png')\n",
    "# 2. age, ap_hi, chol=3 (на картинці не правильно демонструються написи, можливо через плутанину з індексами, я перевірив через інтернет-ресурс)\n"
   ]
  },
  {
   "cell_type": "markdown",
   "metadata": {
    "lang": "uk"
   },
   "source": [
    "**Запитання 4. Які 3 ознаки використовуються для прогнозування у створеному дереві рішень?**\n",
    "\n",
    "1. age, ap_lo, chol=1\n",
    "2. age, ap_hi, chol=3\n",
    "\n",
    "3. smoke, age, gender\n",
    "4. alco, weight, gluc=3"
   ]
  },
  {
   "cell_type": "markdown",
   "metadata": {
    "lang": "uk"
   },
   "source": [
    "Зробіть прогноз для відкладених даних (`X_valid`, `y_valid`) за допомогою навченого дерева рішень. Обчисліть частку правильних відповідей (accuracy)."
   ]
  },
  {
   "cell_type": "code",
   "execution_count": 118,
   "metadata": {},
   "outputs": [
    {
     "data": {
      "text/plain": [
       "0.7212857142857143"
      ]
     },
     "execution_count": 118,
     "metadata": {},
     "output_type": "execute_result"
    }
   ],
   "source": [
    "# Ваш код тут\n",
    "tree_pred = tree.predict(X_valid)\n",
    "accuracy_score(y_valid, tree_pred) "
   ]
  },
  {
   "cell_type": "markdown",
   "metadata": {
    "lang": "uk"
   },
   "source": [
    "Встановіть глибину дерева за допомогою крос-валідації на наборі даних (`X_train`, `y_train`) для підвищення якості моделі. Використовуйте `GridSearchCV` з `cv=5`. Зафіксуйте `random_state=17` і змінюйте `max_depth` від 2 до 10."
   ]
  },
  {
   "cell_type": "code",
   "execution_count": 121,
   "metadata": {},
   "outputs": [
    {
     "name": "stdout",
     "output_type": "stream",
     "text": [
      "Fitting 5 folds for each of 9 candidates, totalling 45 fits\n"
     ]
    },
    {
     "data": {
      "text/html": [
       "<style>#sk-container-id-4 {\n",
       "  /* Definition of color scheme common for light and dark mode */\n",
       "  --sklearn-color-text: black;\n",
       "  --sklearn-color-line: gray;\n",
       "  /* Definition of color scheme for unfitted estimators */\n",
       "  --sklearn-color-unfitted-level-0: #fff5e6;\n",
       "  --sklearn-color-unfitted-level-1: #f6e4d2;\n",
       "  --sklearn-color-unfitted-level-2: #ffe0b3;\n",
       "  --sklearn-color-unfitted-level-3: chocolate;\n",
       "  /* Definition of color scheme for fitted estimators */\n",
       "  --sklearn-color-fitted-level-0: #f0f8ff;\n",
       "  --sklearn-color-fitted-level-1: #d4ebff;\n",
       "  --sklearn-color-fitted-level-2: #b3dbfd;\n",
       "  --sklearn-color-fitted-level-3: cornflowerblue;\n",
       "\n",
       "  /* Specific color for light theme */\n",
       "  --sklearn-color-text-on-default-background: var(--sg-text-color, var(--theme-code-foreground, var(--jp-content-font-color1, black)));\n",
       "  --sklearn-color-background: var(--sg-background-color, var(--theme-background, var(--jp-layout-color0, white)));\n",
       "  --sklearn-color-border-box: var(--sg-text-color, var(--theme-code-foreground, var(--jp-content-font-color1, black)));\n",
       "  --sklearn-color-icon: #696969;\n",
       "\n",
       "  @media (prefers-color-scheme: dark) {\n",
       "    /* Redefinition of color scheme for dark theme */\n",
       "    --sklearn-color-text-on-default-background: var(--sg-text-color, var(--theme-code-foreground, var(--jp-content-font-color1, white)));\n",
       "    --sklearn-color-background: var(--sg-background-color, var(--theme-background, var(--jp-layout-color0, #111)));\n",
       "    --sklearn-color-border-box: var(--sg-text-color, var(--theme-code-foreground, var(--jp-content-font-color1, white)));\n",
       "    --sklearn-color-icon: #878787;\n",
       "  }\n",
       "}\n",
       "\n",
       "#sk-container-id-4 {\n",
       "  color: var(--sklearn-color-text);\n",
       "}\n",
       "\n",
       "#sk-container-id-4 pre {\n",
       "  padding: 0;\n",
       "}\n",
       "\n",
       "#sk-container-id-4 input.sk-hidden--visually {\n",
       "  border: 0;\n",
       "  clip: rect(1px 1px 1px 1px);\n",
       "  clip: rect(1px, 1px, 1px, 1px);\n",
       "  height: 1px;\n",
       "  margin: -1px;\n",
       "  overflow: hidden;\n",
       "  padding: 0;\n",
       "  position: absolute;\n",
       "  width: 1px;\n",
       "}\n",
       "\n",
       "#sk-container-id-4 div.sk-dashed-wrapped {\n",
       "  border: 1px dashed var(--sklearn-color-line);\n",
       "  margin: 0 0.4em 0.5em 0.4em;\n",
       "  box-sizing: border-box;\n",
       "  padding-bottom: 0.4em;\n",
       "  background-color: var(--sklearn-color-background);\n",
       "}\n",
       "\n",
       "#sk-container-id-4 div.sk-container {\n",
       "  /* jupyter's `normalize.less` sets `[hidden] { display: none; }`\n",
       "     but bootstrap.min.css set `[hidden] { display: none !important; }`\n",
       "     so we also need the `!important` here to be able to override the\n",
       "     default hidden behavior on the sphinx rendered scikit-learn.org.\n",
       "     See: https://github.com/scikit-learn/scikit-learn/issues/21755 */\n",
       "  display: inline-block !important;\n",
       "  position: relative;\n",
       "}\n",
       "\n",
       "#sk-container-id-4 div.sk-text-repr-fallback {\n",
       "  display: none;\n",
       "}\n",
       "\n",
       "div.sk-parallel-item,\n",
       "div.sk-serial,\n",
       "div.sk-item {\n",
       "  /* draw centered vertical line to link estimators */\n",
       "  background-image: linear-gradient(var(--sklearn-color-text-on-default-background), var(--sklearn-color-text-on-default-background));\n",
       "  background-size: 2px 100%;\n",
       "  background-repeat: no-repeat;\n",
       "  background-position: center center;\n",
       "}\n",
       "\n",
       "/* Parallel-specific style estimator block */\n",
       "\n",
       "#sk-container-id-4 div.sk-parallel-item::after {\n",
       "  content: \"\";\n",
       "  width: 100%;\n",
       "  border-bottom: 2px solid var(--sklearn-color-text-on-default-background);\n",
       "  flex-grow: 1;\n",
       "}\n",
       "\n",
       "#sk-container-id-4 div.sk-parallel {\n",
       "  display: flex;\n",
       "  align-items: stretch;\n",
       "  justify-content: center;\n",
       "  background-color: var(--sklearn-color-background);\n",
       "  position: relative;\n",
       "}\n",
       "\n",
       "#sk-container-id-4 div.sk-parallel-item {\n",
       "  display: flex;\n",
       "  flex-direction: column;\n",
       "}\n",
       "\n",
       "#sk-container-id-4 div.sk-parallel-item:first-child::after {\n",
       "  align-self: flex-end;\n",
       "  width: 50%;\n",
       "}\n",
       "\n",
       "#sk-container-id-4 div.sk-parallel-item:last-child::after {\n",
       "  align-self: flex-start;\n",
       "  width: 50%;\n",
       "}\n",
       "\n",
       "#sk-container-id-4 div.sk-parallel-item:only-child::after {\n",
       "  width: 0;\n",
       "}\n",
       "\n",
       "/* Serial-specific style estimator block */\n",
       "\n",
       "#sk-container-id-4 div.sk-serial {\n",
       "  display: flex;\n",
       "  flex-direction: column;\n",
       "  align-items: center;\n",
       "  background-color: var(--sklearn-color-background);\n",
       "  padding-right: 1em;\n",
       "  padding-left: 1em;\n",
       "}\n",
       "\n",
       "\n",
       "/* Toggleable style: style used for estimator/Pipeline/ColumnTransformer box that is\n",
       "clickable and can be expanded/collapsed.\n",
       "- Pipeline and ColumnTransformer use this feature and define the default style\n",
       "- Estimators will overwrite some part of the style using the `sk-estimator` class\n",
       "*/\n",
       "\n",
       "/* Pipeline and ColumnTransformer style (default) */\n",
       "\n",
       "#sk-container-id-4 div.sk-toggleable {\n",
       "  /* Default theme specific background. It is overwritten whether we have a\n",
       "  specific estimator or a Pipeline/ColumnTransformer */\n",
       "  background-color: var(--sklearn-color-background);\n",
       "}\n",
       "\n",
       "/* Toggleable label */\n",
       "#sk-container-id-4 label.sk-toggleable__label {\n",
       "  cursor: pointer;\n",
       "  display: block;\n",
       "  width: 100%;\n",
       "  margin-bottom: 0;\n",
       "  padding: 0.5em;\n",
       "  box-sizing: border-box;\n",
       "  text-align: center;\n",
       "}\n",
       "\n",
       "#sk-container-id-4 label.sk-toggleable__label-arrow:before {\n",
       "  /* Arrow on the left of the label */\n",
       "  content: \"▸\";\n",
       "  float: left;\n",
       "  margin-right: 0.25em;\n",
       "  color: var(--sklearn-color-icon);\n",
       "}\n",
       "\n",
       "#sk-container-id-4 label.sk-toggleable__label-arrow:hover:before {\n",
       "  color: var(--sklearn-color-text);\n",
       "}\n",
       "\n",
       "/* Toggleable content - dropdown */\n",
       "\n",
       "#sk-container-id-4 div.sk-toggleable__content {\n",
       "  max-height: 0;\n",
       "  max-width: 0;\n",
       "  overflow: hidden;\n",
       "  text-align: left;\n",
       "  /* unfitted */\n",
       "  background-color: var(--sklearn-color-unfitted-level-0);\n",
       "}\n",
       "\n",
       "#sk-container-id-4 div.sk-toggleable__content.fitted {\n",
       "  /* fitted */\n",
       "  background-color: var(--sklearn-color-fitted-level-0);\n",
       "}\n",
       "\n",
       "#sk-container-id-4 div.sk-toggleable__content pre {\n",
       "  margin: 0.2em;\n",
       "  border-radius: 0.25em;\n",
       "  color: var(--sklearn-color-text);\n",
       "  /* unfitted */\n",
       "  background-color: var(--sklearn-color-unfitted-level-0);\n",
       "}\n",
       "\n",
       "#sk-container-id-4 div.sk-toggleable__content.fitted pre {\n",
       "  /* unfitted */\n",
       "  background-color: var(--sklearn-color-fitted-level-0);\n",
       "}\n",
       "\n",
       "#sk-container-id-4 input.sk-toggleable__control:checked~div.sk-toggleable__content {\n",
       "  /* Expand drop-down */\n",
       "  max-height: 200px;\n",
       "  max-width: 100%;\n",
       "  overflow: auto;\n",
       "}\n",
       "\n",
       "#sk-container-id-4 input.sk-toggleable__control:checked~label.sk-toggleable__label-arrow:before {\n",
       "  content: \"▾\";\n",
       "}\n",
       "\n",
       "/* Pipeline/ColumnTransformer-specific style */\n",
       "\n",
       "#sk-container-id-4 div.sk-label input.sk-toggleable__control:checked~label.sk-toggleable__label {\n",
       "  color: var(--sklearn-color-text);\n",
       "  background-color: var(--sklearn-color-unfitted-level-2);\n",
       "}\n",
       "\n",
       "#sk-container-id-4 div.sk-label.fitted input.sk-toggleable__control:checked~label.sk-toggleable__label {\n",
       "  background-color: var(--sklearn-color-fitted-level-2);\n",
       "}\n",
       "\n",
       "/* Estimator-specific style */\n",
       "\n",
       "/* Colorize estimator box */\n",
       "#sk-container-id-4 div.sk-estimator input.sk-toggleable__control:checked~label.sk-toggleable__label {\n",
       "  /* unfitted */\n",
       "  background-color: var(--sklearn-color-unfitted-level-2);\n",
       "}\n",
       "\n",
       "#sk-container-id-4 div.sk-estimator.fitted input.sk-toggleable__control:checked~label.sk-toggleable__label {\n",
       "  /* fitted */\n",
       "  background-color: var(--sklearn-color-fitted-level-2);\n",
       "}\n",
       "\n",
       "#sk-container-id-4 div.sk-label label.sk-toggleable__label,\n",
       "#sk-container-id-4 div.sk-label label {\n",
       "  /* The background is the default theme color */\n",
       "  color: var(--sklearn-color-text-on-default-background);\n",
       "}\n",
       "\n",
       "/* On hover, darken the color of the background */\n",
       "#sk-container-id-4 div.sk-label:hover label.sk-toggleable__label {\n",
       "  color: var(--sklearn-color-text);\n",
       "  background-color: var(--sklearn-color-unfitted-level-2);\n",
       "}\n",
       "\n",
       "/* Label box, darken color on hover, fitted */\n",
       "#sk-container-id-4 div.sk-label.fitted:hover label.sk-toggleable__label.fitted {\n",
       "  color: var(--sklearn-color-text);\n",
       "  background-color: var(--sklearn-color-fitted-level-2);\n",
       "}\n",
       "\n",
       "/* Estimator label */\n",
       "\n",
       "#sk-container-id-4 div.sk-label label {\n",
       "  font-family: monospace;\n",
       "  font-weight: bold;\n",
       "  display: inline-block;\n",
       "  line-height: 1.2em;\n",
       "}\n",
       "\n",
       "#sk-container-id-4 div.sk-label-container {\n",
       "  text-align: center;\n",
       "}\n",
       "\n",
       "/* Estimator-specific */\n",
       "#sk-container-id-4 div.sk-estimator {\n",
       "  font-family: monospace;\n",
       "  border: 1px dotted var(--sklearn-color-border-box);\n",
       "  border-radius: 0.25em;\n",
       "  box-sizing: border-box;\n",
       "  margin-bottom: 0.5em;\n",
       "  /* unfitted */\n",
       "  background-color: var(--sklearn-color-unfitted-level-0);\n",
       "}\n",
       "\n",
       "#sk-container-id-4 div.sk-estimator.fitted {\n",
       "  /* fitted */\n",
       "  background-color: var(--sklearn-color-fitted-level-0);\n",
       "}\n",
       "\n",
       "/* on hover */\n",
       "#sk-container-id-4 div.sk-estimator:hover {\n",
       "  /* unfitted */\n",
       "  background-color: var(--sklearn-color-unfitted-level-2);\n",
       "}\n",
       "\n",
       "#sk-container-id-4 div.sk-estimator.fitted:hover {\n",
       "  /* fitted */\n",
       "  background-color: var(--sklearn-color-fitted-level-2);\n",
       "}\n",
       "\n",
       "/* Specification for estimator info (e.g. \"i\" and \"?\") */\n",
       "\n",
       "/* Common style for \"i\" and \"?\" */\n",
       "\n",
       ".sk-estimator-doc-link,\n",
       "a:link.sk-estimator-doc-link,\n",
       "a:visited.sk-estimator-doc-link {\n",
       "  float: right;\n",
       "  font-size: smaller;\n",
       "  line-height: 1em;\n",
       "  font-family: monospace;\n",
       "  background-color: var(--sklearn-color-background);\n",
       "  border-radius: 1em;\n",
       "  height: 1em;\n",
       "  width: 1em;\n",
       "  text-decoration: none !important;\n",
       "  margin-left: 1ex;\n",
       "  /* unfitted */\n",
       "  border: var(--sklearn-color-unfitted-level-1) 1pt solid;\n",
       "  color: var(--sklearn-color-unfitted-level-1);\n",
       "}\n",
       "\n",
       ".sk-estimator-doc-link.fitted,\n",
       "a:link.sk-estimator-doc-link.fitted,\n",
       "a:visited.sk-estimator-doc-link.fitted {\n",
       "  /* fitted */\n",
       "  border: var(--sklearn-color-fitted-level-1) 1pt solid;\n",
       "  color: var(--sklearn-color-fitted-level-1);\n",
       "}\n",
       "\n",
       "/* On hover */\n",
       "div.sk-estimator:hover .sk-estimator-doc-link:hover,\n",
       ".sk-estimator-doc-link:hover,\n",
       "div.sk-label-container:hover .sk-estimator-doc-link:hover,\n",
       ".sk-estimator-doc-link:hover {\n",
       "  /* unfitted */\n",
       "  background-color: var(--sklearn-color-unfitted-level-3);\n",
       "  color: var(--sklearn-color-background);\n",
       "  text-decoration: none;\n",
       "}\n",
       "\n",
       "div.sk-estimator.fitted:hover .sk-estimator-doc-link.fitted:hover,\n",
       ".sk-estimator-doc-link.fitted:hover,\n",
       "div.sk-label-container:hover .sk-estimator-doc-link.fitted:hover,\n",
       ".sk-estimator-doc-link.fitted:hover {\n",
       "  /* fitted */\n",
       "  background-color: var(--sklearn-color-fitted-level-3);\n",
       "  color: var(--sklearn-color-background);\n",
       "  text-decoration: none;\n",
       "}\n",
       "\n",
       "/* Span, style for the box shown on hovering the info icon */\n",
       ".sk-estimator-doc-link span {\n",
       "  display: none;\n",
       "  z-index: 9999;\n",
       "  position: relative;\n",
       "  font-weight: normal;\n",
       "  right: .2ex;\n",
       "  padding: .5ex;\n",
       "  margin: .5ex;\n",
       "  width: min-content;\n",
       "  min-width: 20ex;\n",
       "  max-width: 50ex;\n",
       "  color: var(--sklearn-color-text);\n",
       "  box-shadow: 2pt 2pt 4pt #999;\n",
       "  /* unfitted */\n",
       "  background: var(--sklearn-color-unfitted-level-0);\n",
       "  border: .5pt solid var(--sklearn-color-unfitted-level-3);\n",
       "}\n",
       "\n",
       ".sk-estimator-doc-link.fitted span {\n",
       "  /* fitted */\n",
       "  background: var(--sklearn-color-fitted-level-0);\n",
       "  border: var(--sklearn-color-fitted-level-3);\n",
       "}\n",
       "\n",
       ".sk-estimator-doc-link:hover span {\n",
       "  display: block;\n",
       "}\n",
       "\n",
       "/* \"?\"-specific style due to the `<a>` HTML tag */\n",
       "\n",
       "#sk-container-id-4 a.estimator_doc_link {\n",
       "  float: right;\n",
       "  font-size: 1rem;\n",
       "  line-height: 1em;\n",
       "  font-family: monospace;\n",
       "  background-color: var(--sklearn-color-background);\n",
       "  border-radius: 1rem;\n",
       "  height: 1rem;\n",
       "  width: 1rem;\n",
       "  text-decoration: none;\n",
       "  /* unfitted */\n",
       "  color: var(--sklearn-color-unfitted-level-1);\n",
       "  border: var(--sklearn-color-unfitted-level-1) 1pt solid;\n",
       "}\n",
       "\n",
       "#sk-container-id-4 a.estimator_doc_link.fitted {\n",
       "  /* fitted */\n",
       "  border: var(--sklearn-color-fitted-level-1) 1pt solid;\n",
       "  color: var(--sklearn-color-fitted-level-1);\n",
       "}\n",
       "\n",
       "/* On hover */\n",
       "#sk-container-id-4 a.estimator_doc_link:hover {\n",
       "  /* unfitted */\n",
       "  background-color: var(--sklearn-color-unfitted-level-3);\n",
       "  color: var(--sklearn-color-background);\n",
       "  text-decoration: none;\n",
       "}\n",
       "\n",
       "#sk-container-id-4 a.estimator_doc_link.fitted:hover {\n",
       "  /* fitted */\n",
       "  background-color: var(--sklearn-color-fitted-level-3);\n",
       "}\n",
       "</style><div id=\"sk-container-id-4\" class=\"sk-top-container\"><div class=\"sk-text-repr-fallback\"><pre>GridSearchCV(cv=5,\n",
       "             estimator=DecisionTreeClassifier(max_depth=3, random_state=17),\n",
       "             n_jobs=-1, param_grid={&#x27;max_depth&#x27;: [2, 3, 4, 5, 6, 7, 8, 9, 10]},\n",
       "             verbose=True)</pre><b>In a Jupyter environment, please rerun this cell to show the HTML representation or trust the notebook. <br />On GitHub, the HTML representation is unable to render, please try loading this page with nbviewer.org.</b></div><div class=\"sk-container\" hidden><div class=\"sk-item sk-dashed-wrapped\"><div class=\"sk-label-container\"><div class=\"sk-label fitted sk-toggleable\"><input class=\"sk-toggleable__control sk-hidden--visually\" id=\"sk-estimator-id-6\" type=\"checkbox\" ><label for=\"sk-estimator-id-6\" class=\"sk-toggleable__label fitted sk-toggleable__label-arrow fitted\">&nbsp;&nbsp;GridSearchCV<a class=\"sk-estimator-doc-link fitted\" rel=\"noreferrer\" target=\"_blank\" href=\"https://scikit-learn.org/1.5/modules/generated/sklearn.model_selection.GridSearchCV.html\">?<span>Documentation for GridSearchCV</span></a><span class=\"sk-estimator-doc-link fitted\">i<span>Fitted</span></span></label><div class=\"sk-toggleable__content fitted\"><pre>GridSearchCV(cv=5,\n",
       "             estimator=DecisionTreeClassifier(max_depth=3, random_state=17),\n",
       "             n_jobs=-1, param_grid={&#x27;max_depth&#x27;: [2, 3, 4, 5, 6, 7, 8, 9, 10]},\n",
       "             verbose=True)</pre></div> </div></div><div class=\"sk-parallel\"><div class=\"sk-parallel-item\"><div class=\"sk-item\"><div class=\"sk-label-container\"><div class=\"sk-label fitted sk-toggleable\"><input class=\"sk-toggleable__control sk-hidden--visually\" id=\"sk-estimator-id-7\" type=\"checkbox\" ><label for=\"sk-estimator-id-7\" class=\"sk-toggleable__label fitted sk-toggleable__label-arrow fitted\">best_estimator_: DecisionTreeClassifier</label><div class=\"sk-toggleable__content fitted\"><pre>DecisionTreeClassifier(max_depth=6, random_state=17)</pre></div> </div></div><div class=\"sk-serial\"><div class=\"sk-item\"><div class=\"sk-estimator fitted sk-toggleable\"><input class=\"sk-toggleable__control sk-hidden--visually\" id=\"sk-estimator-id-8\" type=\"checkbox\" ><label for=\"sk-estimator-id-8\" class=\"sk-toggleable__label fitted sk-toggleable__label-arrow fitted\">&nbsp;DecisionTreeClassifier<a class=\"sk-estimator-doc-link fitted\" rel=\"noreferrer\" target=\"_blank\" href=\"https://scikit-learn.org/1.5/modules/generated/sklearn.tree.DecisionTreeClassifier.html\">?<span>Documentation for DecisionTreeClassifier</span></a></label><div class=\"sk-toggleable__content fitted\"><pre>DecisionTreeClassifier(max_depth=6, random_state=17)</pre></div> </div></div></div></div></div></div></div></div></div>"
      ],
      "text/plain": [
       "GridSearchCV(cv=5,\n",
       "             estimator=DecisionTreeClassifier(max_depth=3, random_state=17),\n",
       "             n_jobs=-1, param_grid={'max_depth': [2, 3, 4, 5, 6, 7, 8, 9, 10]},\n",
       "             verbose=True)"
      ]
     },
     "execution_count": 121,
     "metadata": {},
     "output_type": "execute_result"
    }
   ],
   "source": [
    "tree_params = {'max_depth': list(range(2, 11))}\n",
    "\n",
    "tree_grid = GridSearchCV(tree, tree_params, cv=5, n_jobs=-1, verbose=True) # Ваш код тут\n",
    "tree_grid.fit(X_train, y_train)\n",
    "\n"
   ]
  },
  {
   "cell_type": "markdown",
   "metadata": {
    "lang": "uk"
   },
   "source": [
    "Побудуйте графік, щоб показати, як змінюється середня частка правильних відповідей зі зміною `max_depth` на крос-валідації."
   ]
  },
  {
   "cell_type": "code",
   "execution_count": 122,
   "metadata": {},
   "outputs": [
    {
     "data": {
      "image/png": "[encoded data removed]",
      "text/plain": [
       "<Figure size 800x600 with 1 Axes>"
      ]
     },
     "metadata": {},
     "output_type": "display_data"
    }
   ],
   "source": [
    "# Ваш код тут\n",
    "depths = tree_grid.param_grid['max_depth']\n",
    "mean_test_scores = tree_grid.cv_results_['mean_test_score']\n",
    "\n",
    "# Побудова графіку\n",
    "plt.figure(figsize=(8, 6))\n",
    "plt.plot(depths, mean_test_scores, marker='o')\n",
    "plt.xlabel('Max Depth')\n",
    "plt.ylabel('Mean Accuracy (Cross-Validation)')\n",
    "plt.title('Залежність середньої частки правильних відповідей від max_depth')\n",
    "plt.grid(True)\n",
    "plt.show()"
   ]
  },
  {
   "cell_type": "markdown",
   "metadata": {
    "lang": "uk"
   },
   "source": [
    "Виведіть найкраще значення `max_depth`, для якого середнє значення метрики якості на крос-валідації досягає максимуму. Також обчисліть частку правильних відповідей на відкладених даних. Це можна зробити за допомогою навченого екземпляра класу `GridSearchCV`."
   ]
  },
  {
   "cell_type": "code",
   "execution_count": 124,
   "metadata": {},
   "outputs": [
    {
     "data": {
      "text/plain": [
       "({'max_depth': 6}, np.float64(0.7321428571428572))"
      ]
     },
     "execution_count": 124,
     "metadata": {},
     "output_type": "execute_result"
    }
   ],
   "source": [
    "# Ваш код тут\n",
    "tree_grid.best_params_, tree_grid.best_score_"
   ]
  },
  {
   "cell_type": "markdown",
   "metadata": {
    "lang": "uk"
   },
   "source": [
    "Обчисліть ефект `GridSearchCV`: (acc2 - acc1) / acc1 * 100%, де acc1 і acc2 – частки правильних відповідей на відкладених даних до і після налаштування `max_depth` з `GridSearchCV` відповідно."
   ]
  },
  {
   "cell_type": "code",
   "execution_count": 129,
   "metadata": {},
   "outputs": [
    {
     "data": {
      "text/plain": [
       "np.float64(1.5052485640720992)"
      ]
     },
     "execution_count": 129,
     "metadata": {},
     "output_type": "execute_result"
    }
   ],
   "source": [
    "# Ваш код тут\n",
    "acc1 = accuracy_score(y_valid, tree_pred) \n",
    "acc2 = tree_grid.best_score_\n",
    "eff = ((acc2 - acc1) / acc1) * 100\n",
    "eff\n",
    "# 1.5%\n",
    "#`GridSearchCV` збільшив частку правильних відповідей на відкладених даних **більше** ніж на 1%\n",
    "# Існує локальний максимум частки правильних відповідей для побудованої кривої валідації"
   ]
  },
  {
   "cell_type": "markdown",
   "metadata": {
    "lang": "uk"
   },
   "source": [
    "**Запитання 5. Виберіть усі правильні твердження.**\n",
    "\n",
    "- Існує локальний максимум частки правильних відповідей для побудованої кривої валідації\n",
    "- `GridSearchCV` збільшив частку правильних відповідей на відкладених даних **більше** ніж на 1%\n",
    "- Побудована крива валідації **не має** локального максимуму частки правильних відповідей\n",
    "- `GridSearchCV` збільшив частку правильних відповідей на відкладених даних **менше** ніж на 1%"
   ]
  },
  {
   "cell_type": "markdown",
   "metadata": {
    "lang": "uk"
   },
   "source": [
    "Подивіться на [шкалу SCORE](https://www.escardio.org/Education/Practice-Tools/CVD-prevention-toolbox/SCORE-Risk-Charts) для розрахунку ризику смерті від серцево-судинного захворювання в найближчі 10 років:\n",
    "<img src='../img/SCORE.png' width=70%>\n",
    "\n",
    "Давайте створимо нові ознаки відповідно до цього рисунку:\n",
    "- Вік: $age \\in [40,50), age \\in [50,55), age \\in [55,60), age \\in [60,65)$ (4 ознаки).\n",
    "- Верхній артеріальний тиск: $ap\\_hi \\in [120,140), ap\\_hi \\in [140,160), ap\\_hi \\in [160,180)$ (3 ознаки).\n",
    "\n",
    "Якщо значення віку або артеріального тиску не потрапляють ні в один з інтервалів, то всі бінарні ознаки будуть дорівнювати нулю.\n",
    "\n",
    "Додайте ознаку `smoke`.\n",
    "\n",
    "Додайте ознаки `cholesterol` та `gender`. Перетворіть `cholesterol` на 3 бінарні ознаки відповідно до 3-х унікальних значень (`cholesterol`=1, `cholesterol`=2 і `cholesterol`=3). Перетворіть `gender` з 1 і 2 на 0 і 1. Краще перейменувати цю ознаку на `male` (0 – жінка, 1 – чоловік). В загальному, це робиться за допомогою [`sklearn.preprocessing.LabelEncoder`](https://scikit-learn.org/stable/modules/generated/sklearn.preprocessing.LabelEncoder.html), але тут, у випадку лише двох унікальних значень, не потрібно.\n",
    "\n",
    "Нарешті, дерево рішень будується за допомогою цих 12 бінарних ознак (виключити всі ознаки, які ми мали до цього).\n",
    "\n",
    "Створіть дерево рішень з обмеженням `max_depth=3` і навчайте його на всіх навчальних даних. Використовуйте клас `DecisionTreeClassifier` з фіксованим `random_state=17`. Всі інші параметри (крім `max_depth` та `random_state`) повинні бути залишені за замовчуванням.\n",
    "\n",
    "**Запитання 6. Яка бінарна ознака є найважливішою для виявлення ССЗ (тобто вона розміщується в корені дерева)?**\n",
    "\n",
    "- Верхній артеріальний тиск від 160 до 180 (мм рт.ст.)\n",
    "- Рівень холестерину == 3\n",
    "- Верхній артеріальний тиск від 140 до 160 (мм рт.ст.)\n",
    "- Вік від 50 до 55 (років)\n",
    "- Курить/не курить\n",
    "- Вік від 60 до 65 (років)"
   ]
  },
  {
   "cell_type": "code",
   "execution_count": 156,
   "metadata": {},
   "outputs": [
    {
     "data": {
      "text/plain": [
       "0.704047619047619"
      ]
     },
     "execution_count": 156,
     "metadata": {},
     "output_type": "execute_result"
    }
   ],
   "source": [
    "# Ваш код тут\n",
    "df['age_40_50'] = np.where((df['age_years'] >= 40) & (df['age_years'] < 50), 1, 0)\n",
    "df['age_50_55'] = np.where((df['age_years'] >= 50) & (df['age_years'] < 55), 1, 0)\n",
    "df['age_55_60'] = np.where((df['age_years'] >= 55) & (df['age_years'] < 60), 1, 0)\n",
    "df['age_60_65'] = np.where((df['age_years'] >= 60) & (df['age_years'] < 65), 1, 0)\n",
    "df['ap_hi_120_140'] = np.where((df['ap_hi'] >= 120) & (df['ap_hi'] < 140), 1, 0)\n",
    "df['ap_hi_140_160'] = np.where((df['ap_hi'] >= 140) & (df['ap_hi'] < 160), 1, 0)\n",
    "df['ap_hi_160_180'] = np.where((df['ap_hi'] >= 160) & (df['ap_hi'] < 180), 1, 0)\n",
    "new_df = df[['age_40_50', 'age_50_55', 'age_55_60', 'age_60_65',\n",
    "             'ap_hi_120_140', 'ap_hi_140_160', 'ap_hi_160_180', 'gender', \"smoke\", 'cholesterol_1', 'cholesterol_2',\n",
    "       'cholesterol_3']]\n",
    "X_train, X_valid, y_train, y_valid = train_test_split(new_df, y, test_size = 0.3, random_state = 17)\n",
    "tree = DecisionTreeClassifier(max_depth=3, random_state=17)\n",
    "tree.fit(X_train, y_train)\n",
    "dot_data = export_graphviz(tree)\n",
    "\n",
    "# Bерхній артеріальний тиск від 140 до 160 (мм рт.ст.)\n",
    "tree_pred = tree.predict(X_valid)\n",
    "accuracy_score(y_valid, tree_pred) \n"
   ]
  }
 ],
 "metadata": {
  "kernelspec": {
   "display_name": "MLVenv",
   "language": "python",
   "name": "python3"
  },
  "language_info": {
   "codemirror_mode": {
    "name": "ipython",
    "version": 3
   },
   "file_extension": ".py",
   "mimetype": "text/x-python",
   "name": "python",
   "nbconvert_exporter": "python",
   "pygments_lexer": "ipython3",
   "version": "3.12.3"
  },
  "name": "lesson4_part2_Decision_trees.ipynb",
  "nbTranslate": {
   "displayLangs": [
    "*"
   ],
   "hotkey": "alt-t",
   "langInMainMenu": true,
   "sourceLang": "en",
   "targetLang": "uk",
   "useGoogleTranslate": true
  }
 },
 "nbformat": 4,
 "nbformat_minor": 1
}
